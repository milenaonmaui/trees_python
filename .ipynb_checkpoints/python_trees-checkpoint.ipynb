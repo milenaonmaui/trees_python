{
 "cells": [
  {
   "cell_type": "code",
   "execution_count": 62,
   "metadata": {},
   "outputs": [],
   "source": [
    "class BinaryNode:\n",
    "    indent = \"  \"\n",
    "    def __init__(self, value):\n",
    "        self.value = value\n",
    "        self.left_child = None\n",
    "        self.right_child = None\n",
    "        \n",
    "    def add_left(self, node):\n",
    "        self.left_child = node\n",
    "    \n",
    "    def add_right(self, node):\n",
    "        self.right_child = node\n",
    "        \n",
    "    def __str__(self, level=0):\n",
    "        curr_level=level\n",
    "        result = f'{level*self.indent}{self.value}:\\n'  \n",
    "        #Base case\n",
    "        if self.left_child == None and self.right_child==None:\n",
    "            return result \n",
    "        else:\n",
    "            curr_level+=1\n",
    "            if self.left_child:    \n",
    "                result = result + self.left_child.__str__(curr_level)\n",
    "            else:\n",
    "                result = result + f'{curr_level*self.indent}None\\n'\n",
    "            if self.right_child:\n",
    "                result = result + self.right_child.__str__(curr_level)\n",
    "            else:\n",
    "                result = result + f'{curr_level*self.indent}None\\n'\n",
    "        return result\n",
    "    \n",
    "    def find_node(self, value):\n",
    "        #print(f\"Looking for {value} in tree with root {root.value}\")\n",
    "        # Base case\n",
    "        if self.value == value:\n",
    "            return root\n",
    "        \n",
    "        # Search the left child subtree.\n",
    "        if self.left_child != None:\n",
    "            result = self.left_child.find_node(value)\n",
    "            if result != None:\n",
    "                return result\n",
    "            \n",
    "        # Search the right child subtree.\n",
    "        if self.right_child != None:\n",
    "            result = self.right_child.find_node(value)\n",
    "            if result != None:\n",
    "                return result\n",
    "        return None\n",
    "\n",
    "def find_value(root, value):\n",
    "    node = root.find_node(value)\n",
    "    if node:\n",
    "        print(f\"Found {value}\")\n",
    "    else:\n",
    "        print(f\"Value {value} not found\")\n",
    "\n"
   ]
  },
  {
   "cell_type": "code",
   "execution_count": 63,
   "metadata": {},
   "outputs": [
    {
     "name": "stdout",
     "output_type": "stream",
     "text": [
      "Found Root\n",
      "Found E\n",
      "Found F\n",
      "Value Q not found\n",
      "Found F\n"
     ]
    }
   ],
   "source": [
    "root = BinaryNode('Root')\n",
    "node_a = BinaryNode('A')\n",
    "node_b = BinaryNode('B')\n",
    "node_c = BinaryNode('C')\n",
    "node_d = BinaryNode('D')\n",
    "node_e = BinaryNode('E')\n",
    "node_f = BinaryNode('F')\n",
    "root.add_left(node_a)\n",
    "root.add_right(node_b)\n",
    "node_a.add_left(node_c)\n",
    "node_a.add_right(node_d)\n",
    "node_b.add_right(node_e)\n",
    "node_e.add_left(node_f)\n",
    "find_value(root, 'Root')\n",
    "find_value(root, 'E')\n",
    "find_value(root, 'F')\n",
    "find_value(root, 'Q')\n",
    "\n",
    "# Find F in the B subtree.\n",
    "find_value(node_b, 'F')"
   ]
  },
  {
   "cell_type": "code",
   "execution_count": 53,
   "metadata": {},
   "outputs": [
    {
     "name": "stdout",
     "output_type": "stream",
     "text": [
      "Root:\n",
      "  A:\n",
      "    C:\n",
      "    D:\n",
      "  B:\n",
      "    None\n",
      "    E:\n",
      "      F:\n",
      "      None\n",
      "\n"
     ]
    }
   ],
   "source": [
    "print(root)\n",
    "# print(node_a)\n",
    "# print(node_b)\n",
    "# print(node_c)\n",
    "# print(node_d)\n",
    "# print(node_e)\n",
    "# print(node_f)"
   ]
  },
  {
   "cell_type": "code",
   "execution_count": null,
   "metadata": {},
   "outputs": [],
   "source": []
  }
 ],
 "metadata": {
  "kernelspec": {
   "display_name": "Python 3",
   "language": "python",
   "name": "python3"
  },
  "language_info": {
   "codemirror_mode": {
    "name": "ipython",
    "version": 3
   },
   "file_extension": ".py",
   "mimetype": "text/x-python",
   "name": "python",
   "nbconvert_exporter": "python",
   "pygments_lexer": "ipython3",
   "version": "3.6.9"
  }
 },
 "nbformat": 4,
 "nbformat_minor": 2
}
