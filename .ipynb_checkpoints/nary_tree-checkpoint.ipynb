{
 "cells": [
  {
   "cell_type": "code",
   "execution_count": 3,
   "metadata": {},
   "outputs": [],
   "source": [
    "class NaryNode:\n",
    "    def __init__(self, value):\n",
    "        self.value = value\n",
    "        self.children = []\n",
    "        \n",
    "    def add_child(self, node):\n",
    "        self.children.append(node)\n",
    "    \n",
    "    def add_right(self, node):\n",
    "        self.right_child = node\n",
    "        \n",
    "    def __str__(self): \n",
    "        tree_str = str(self.value) + \": \"\n",
    "        for node in self.children:\n",
    "            tree_str = tree_str + node.value + \" \"\n",
    "        return tree_str"
   ]
  },
  {
   "cell_type": "code",
   "execution_count": 6,
   "metadata": {},
   "outputs": [
    {
     "name": "stdout",
     "output_type": "stream",
     "text": [
      "Root: A B C \n",
      "A: D E \n",
      "B: \n",
      "C: F \n",
      "D: G \n",
      "E: \n",
      "F: H I \n",
      "G: \n",
      "H: \n",
      "I: \n"
     ]
    }
   ],
   "source": [
    "root = NaryNode('Root')\n",
    "node_a =  NaryNode('A')\n",
    "node_b =  NaryNode('B')\n",
    "node_c =  NaryNode('C')\n",
    "node_d =  NaryNode('D')\n",
    "node_e =  NaryNode('E')\n",
    "node_f =  NaryNode('F')\n",
    "node_g =  NaryNode('G')\n",
    "node_h =  NaryNode('H')\n",
    "node_i =  NaryNode('I')\n",
    "root.add_child(node_a)\n",
    "root.add_child(node_b)\n",
    "root.add_child(node_c)\n",
    "node_a.add_child(node_d)\n",
    "node_a.add_child(node_e)\n",
    "node_c.add_child(node_f)\n",
    "node_d.add_child(node_g)\n",
    "node_f.add_child(node_h)\n",
    "node_f.add_child(node_i)\n",
    "\n",
    "print(root)\n",
    "print(node_a)\n",
    "print(node_b)\n",
    "print(node_c)\n",
    "print(node_d)\n",
    "print(node_e)\n",
    "print(node_f)\n",
    "print(node_g)\n",
    "print(node_h)\n",
    "print(node_i)"
   ]
  },
  {
   "cell_type": "code",
   "execution_count": null,
   "metadata": {},
   "outputs": [],
   "source": []
  }
 ],
 "metadata": {
  "kernelspec": {
   "display_name": "Python 3",
   "language": "python",
   "name": "python3"
  },
  "language_info": {
   "codemirror_mode": {
    "name": "ipython",
    "version": 3
   },
   "file_extension": ".py",
   "mimetype": "text/x-python",
   "name": "python",
   "nbconvert_exporter": "python",
   "pygments_lexer": "ipython3",
   "version": "3.7.4"
  }
 },
 "nbformat": 4,
 "nbformat_minor": 2
}
