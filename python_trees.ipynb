{
 "cells": [
  {
   "cell_type": "code",
   "execution_count": 21,
   "metadata": {},
   "outputs": [],
   "source": [
    "class BinaryNode:\n",
    "    def __init__(self, value):\n",
    "        self.value = value\n",
    "        self.left_child = None\n",
    "        self.right_child = None\n",
    "        \n",
    "    def add_left(self, node):\n",
    "        self.left_child = node\n",
    "    \n",
    "    def add_right(self, node):\n",
    "        self.right_child = node\n",
    "        \n",
    "    def __str__(self): \n",
    "        left_value = self.left_child.value if self.left_child !=None else None\n",
    "        right_value = self.right_child.value if self.right_child != None else None\n",
    "        return f'{self.value}: {left_value} {right_value}'\n",
    "        "
   ]
  },
  {
   "cell_type": "code",
   "execution_count": 22,
   "metadata": {},
   "outputs": [],
   "source": [
    "root = BinaryNode('Root')\n",
    "node_a = BinaryNode('A')\n",
    "node_b = BinaryNode('B')\n",
    "node_c = BinaryNode('C')\n",
    "node_d = BinaryNode('D')\n",
    "node_e = BinaryNode('E')\n",
    "node_f = BinaryNode('F')\n",
    "root.add_left(node_a)\n",
    "root.add_right(node_b)\n",
    "node_a.add_left(node_c)\n",
    "node_a.add_right(node_d)\n",
    "node_b.add_right(node_e)\n",
    "node_e.add_left(node_f)\n"
   ]
  },
  {
   "cell_type": "code",
   "execution_count": 20,
   "metadata": {},
   "outputs": [
    {
     "name": "stdout",
     "output_type": "stream",
     "text": [
      "Root: A B\n",
      "A: C D\n",
      "B: None E\n",
      "C: None None\n",
      "D: None None\n",
      "E: F None\n",
      "F: None None\n"
     ]
    }
   ],
   "source": [
    "print(root)\n",
    "print(node_a)\n",
    "print(node_b)\n",
    "print(node_c)\n",
    "print(node_d)\n",
    "print(node_e)\n",
    "print(node_f)"
   ]
  },
  {
   "cell_type": "code",
   "execution_count": null,
   "metadata": {},
   "outputs": [],
   "source": []
  }
 ],
 "metadata": {
  "kernelspec": {
   "display_name": "Python 3",
   "language": "python",
   "name": "python3"
  },
  "language_info": {
   "codemirror_mode": {
    "name": "ipython",
    "version": 3
   },
   "file_extension": ".py",
   "mimetype": "text/x-python",
   "name": "python",
   "nbconvert_exporter": "python",
   "pygments_lexer": "ipython3",
   "version": "3.7.4"
  }
 },
 "nbformat": 4,
 "nbformat_minor": 2
}
