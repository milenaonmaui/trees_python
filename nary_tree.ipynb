{
 "cells": [
  {
   "cell_type": "code",
   "execution_count": 1,
   "metadata": {},
   "outputs": [],
   "source": [
    "class NaryNode:\n",
    "    indent=\" \"\n",
    "    def __init__(self, value):\n",
    "        self.value = value\n",
    "        self.children = []\n",
    "        \n",
    "    def add_child(self, node):\n",
    "        self.children.append(node)\n",
    "    \n",
    "    def add_right(self, node):\n",
    "        self.right_child = node\n",
    "        \n",
    "    def __str__(self, level =0): \n",
    "        curr_level=level\n",
    "        result = f'{level*self.indent}{self.value}:\\n'  \n",
    "        #Base case\n",
    "        if len(self.children) == 0:\n",
    "            return result \n",
    "        else:\n",
    "            curr_level+=1\n",
    "            for child in self.children:\n",
    "                result = result + child.__str__(curr_level)\n",
    "        return result\n"
   ]
  },
  {
   "cell_type": "code",
   "execution_count": 2,
   "metadata": {},
   "outputs": [
    {
     "name": "stdout",
     "output_type": "stream",
     "text": [
      "Root:\n",
      " A:\n",
      "  D:\n",
      "   G:\n",
      "  E:\n",
      " B:\n",
      " C:\n",
      "  F:\n",
      "   H:\n",
      "   I:\n",
      "\n",
      "A:\n",
      " D:\n",
      "  G:\n",
      " E:\n",
      "\n",
      "B:\n",
      "\n",
      "C:\n",
      " F:\n",
      "  H:\n",
      "  I:\n",
      "\n",
      "D:\n",
      " G:\n",
      "\n",
      "E:\n",
      "\n",
      "F:\n",
      " H:\n",
      " I:\n",
      "\n",
      "G:\n",
      "\n",
      "H:\n",
      "\n",
      "I:\n",
      "\n"
     ]
    }
   ],
   "source": [
    "root = NaryNode('Root')\n",
    "node_a =  NaryNode('A')\n",
    "node_b =  NaryNode('B')\n",
    "node_c =  NaryNode('C')\n",
    "node_d =  NaryNode('D')\n",
    "node_e =  NaryNode('E')\n",
    "node_f =  NaryNode('F')\n",
    "node_g =  NaryNode('G')\n",
    "node_h =  NaryNode('H')\n",
    "node_i =  NaryNode('I')\n",
    "root.add_child(node_a)\n",
    "root.add_child(node_b)\n",
    "root.add_child(node_c)\n",
    "node_a.add_child(node_d)\n",
    "node_a.add_child(node_e)\n",
    "node_c.add_child(node_f)\n",
    "node_d.add_child(node_g)\n",
    "node_f.add_child(node_h)\n",
    "node_f.add_child(node_i)\n",
    "\n",
    "print(root)\n",
    "print(node_a)\n",
    "print(node_b)\n",
    "print(node_c)\n",
    "print(node_d)\n",
    "print(node_e)\n",
    "print(node_f)\n",
    "print(node_g)\n",
    "print(node_h)\n",
    "print(node_i)"
   ]
  },
  {
   "cell_type": "code",
   "execution_count": null,
   "metadata": {},
   "outputs": [],
   "source": []
  }
 ],
 "metadata": {
  "kernelspec": {
   "display_name": "Python 3",
   "language": "python",
   "name": "python3"
  },
  "language_info": {
   "codemirror_mode": {
    "name": "ipython",
    "version": 3
   },
   "file_extension": ".py",
   "mimetype": "text/x-python",
   "name": "python",
   "nbconvert_exporter": "python",
   "pygments_lexer": "ipython3",
   "version": "3.6.9"
  }
 },
 "nbformat": 4,
 "nbformat_minor": 2
}
